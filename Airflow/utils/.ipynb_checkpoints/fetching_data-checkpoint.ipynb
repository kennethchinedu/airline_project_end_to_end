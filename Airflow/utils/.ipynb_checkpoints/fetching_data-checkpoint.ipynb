{
 "cells": [
  {
   "cell_type": "code",
   "execution_count": 7,
   "id": "b2cf3906-0b68-4831-b222-84ac805f8a04",
   "metadata": {},
   "outputs": [
    {
     "name": "stdout",
     "output_type": "stream",
     "text": [
      "Data received from API: {'Object': {'total': 139, 'limit': 100, 'offset': 139}, 'results': []}\n",
      "DataFrame contents: Empty DataFrame\n",
      "Columns: []\n",
      "Index: []\n",
      "CSV file Netflix2024_20240307232534.csv saved successfully.\n"
     ]
    },
    {
     "data": {
      "text/html": [
       "<div>\n",
       "<style scoped>\n",
       "    .dataframe tbody tr th:only-of-type {\n",
       "        vertical-align: middle;\n",
       "    }\n",
       "\n",
       "    .dataframe tbody tr th {\n",
       "        vertical-align: top;\n",
       "    }\n",
       "\n",
       "    .dataframe thead th {\n",
       "        text-align: right;\n",
       "    }\n",
       "</style>\n",
       "<table border=\"1\" class=\"dataframe\">\n",
       "  <thead>\n",
       "    <tr style=\"text-align: right;\">\n",
       "      <th></th>\n",
       "    </tr>\n",
       "  </thead>\n",
       "  <tbody>\n",
       "  </tbody>\n",
       "</table>\n",
       "</div>"
      ],
      "text/plain": [
       "Empty DataFrame\n",
       "Columns: []\n",
       "Index: []"
      ]
     },
     "execution_count": 7,
     "metadata": {},
     "output_type": "execute_result"
    }
   ],
   "source": [
    "import requests\n",
    "import pandas as pd\n",
    "from dotenv import load_dotenv\n",
    "import os\n",
    "from datetime import datetime\n",
    "\n",
    "# Load environment variables from .env file\n",
    "load_dotenv()\n",
    "\n",
    "start_year = '2024'\n",
    "end_year = '2024'\n",
    "order_by = 'date'\n",
    "offset_env_variable = 'NETFLIX_OFFSET'\n",
    "api_key_env_variable = 'NETFLIX_API_KEY'  # New environment variable for API key\n",
    "\n",
    "def extract_titles():\n",
    "    # Read the last offset from the environment variable if it exists\n",
    "    last_offset_str = os.getenv(offset_env_variable)\n",
    "    last_offset = int(last_offset_str) if last_offset_str is not None else 0\n",
    "\n",
    "    # Construct URL with start_year, end_year, order_by, and last_offset\n",
    "    url = f\"https://api.apilayer.com/unogs/search/titles?start_year={start_year}&order_by={order_by}&end_year={end_year}&offset={last_offset}\"\n",
    "    \n",
    "    payload = {}\n",
    "    headers = {\n",
    "        \"apikey\": os.getenv(api_key_env_variable)  # Retrieve API key from environment variable\n",
    "    }\n",
    "\n",
    "    response = requests.request(\"GET\", url, headers=headers, data=payload)\n",
    "    data = response.json()\n",
    "\n",
    "    # Extract relevant fields from each result\n",
    "    formatted_data = []\n",
    "    for result in data[\"results\"]:\n",
    "        formatted_data.append({\n",
    "            \"imdb_id\": result[\"imdb_id\"],\n",
    "            \"title\": result[\"title\"],\n",
    "            \"rating\": result[\"rating\"],\n",
    "            \"year\": result[\"year\"],\n",
    "            \"runtime\": result[\"runtime\"],\n",
    "            \"top250\": result[\"top250\"],\n",
    "            \"top250tv\": result[\"top250tv\"],\n",
    "            \"title_date\": result[\"title_date\"]\n",
    "        })\n",
    "\n",
    "    # Create a DataFrame from the formatted data\n",
    "    new_df = pd.DataFrame(formatted_data)\n",
    "\n",
    "    # Save the new DataFrame as a new CSV file\n",
    "    timestamp = datetime.now().strftime('%Y%m%d%H%M%S')\n",
    "    csv_file_name = f'Netflix2024_{timestamp}.csv'\n",
    "    new_df.to_csv(csv_file_name, index=False)\n",
    "    print(f\"CSV file {csv_file_name} saved successfully.\")\n",
    "\n",
    "    # Update the offset in the environment variable\n",
    "    os.environ[offset_env_variable] = str(last_offset + len(formatted_data))\n",
    "\n",
    "    # Display the DataFrame\n",
    "    return new_df\n",
    "\n"
   ]
  },
  {
   "cell_type": "code",
   "execution_count": 6,
   "id": "ce9c27c7-d921-4236-b92d-8ccc81074314",
   "metadata": {},
   "outputs": [
    {
     "name": "stdout",
     "output_type": "stream",
     "text": [
      "CSV file Netflix2024_20240307232054.csv saved successfully.\n"
     ]
    },
    {
     "data": {
      "text/html": [
       "<div>\n",
       "<style scoped>\n",
       "    .dataframe tbody tr th:only-of-type {\n",
       "        vertical-align: middle;\n",
       "    }\n",
       "\n",
       "    .dataframe tbody tr th {\n",
       "        vertical-align: top;\n",
       "    }\n",
       "\n",
       "    .dataframe thead th {\n",
       "        text-align: right;\n",
       "    }\n",
       "</style>\n",
       "<table border=\"1\" class=\"dataframe\">\n",
       "  <thead>\n",
       "    <tr style=\"text-align: right;\">\n",
       "      <th></th>\n",
       "    </tr>\n",
       "  </thead>\n",
       "  <tbody>\n",
       "  </tbody>\n",
       "</table>\n",
       "</div>"
      ],
      "text/plain": [
       "Empty DataFrame\n",
       "Columns: []\n",
       "Index: []"
      ]
     },
     "execution_count": 6,
     "metadata": {},
     "output_type": "execute_result"
    }
   ],
   "source": [
    "extract_titles()"
   ]
  },
  {
   "cell_type": "code",
   "execution_count": null,
   "id": "1ca0e972-27e4-4e22-ab5a-7f22f4468eaa",
   "metadata": {},
   "outputs": [],
   "source": []
  }
 ],
 "metadata": {
  "kernelspec": {
   "display_name": "Python 3 (ipykernel)",
   "language": "python",
   "name": "python3"
  },
  "language_info": {
   "codemirror_mode": {
    "name": "ipython",
    "version": 3
   },
   "file_extension": ".py",
   "mimetype": "text/x-python",
   "name": "python",
   "nbconvert_exporter": "python",
   "pygments_lexer": "ipython3",
   "version": "3.12.2"
  }
 },
 "nbformat": 4,
 "nbformat_minor": 5
}
